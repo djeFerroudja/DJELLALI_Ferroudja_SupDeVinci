{
 "cells": [
  {
   "cell_type": "markdown",
   "metadata": {},
   "source": [
    "### TD Les fonctions "
   ]
  },
  {
   "cell_type": "code",
   "execution_count": 8,
   "metadata": {},
   "outputs": [],
   "source": [
    "from math import pi"
   ]
  },
  {
   "cell_type": "raw",
   "metadata": {},
   "source": [
    "1. Déclarer la fonction surf_cercle qui calcule la surface d'un cercle"
   ]
  },
  {
   "cell_type": "code",
   "execution_count": null,
   "metadata": {},
   "outputs": [],
   "source": [
    "def surf_cercle(r):\n",
    "    return pi *(r*r) "
   ]
  },
  {
   "cell_type": "raw",
   "metadata": {},
   "source": [
    "2. Modifier la fonction surf_cercle possède une valeur par défaut"
   ]
  },
  {
   "cell_type": "code",
   "execution_count": 10,
   "metadata": {},
   "outputs": [],
   "source": [
    "def surf_cercle(r=1):\n",
    "    return pi *(r*r) "
   ]
  },
  {
   "cell_type": "raw",
   "metadata": {},
   "source": [
    "3. Fonction qui calcule le volume d'une boite "
   ]
  },
  {
   "cell_type": "code",
   "execution_count": 9,
   "metadata": {},
   "outputs": [],
   "source": [
    "def vol_boite(longueur, largeur, hauteur):\n",
    "    return longueur * largeur * hauteur "
   ]
  },
  {
   "cell_type": "raw",
   "metadata": {},
   "source": [
    "4. Modifier la question 3"
   ]
  },
  {
   "cell_type": "code",
   "execution_count": 37,
   "metadata": {},
   "outputs": [],
   "source": [
    "def vol_boite2(*param):\n",
    "    if len(param) == 1:\n",
    "        return param[0]*param[0]*param[0]\n",
    "    elif len(param)==2:\n",
    "        return param[0]*param[0]*param[1]\n",
    "    elif len(param)==3:\n",
    "        return param[0]*param[1]*param[2]           \n"
   ]
  },
  {
   "cell_type": "code",
   "execution_count": 48,
   "metadata": {},
   "outputs": [
    {
     "name": "stdout",
     "output_type": "stream",
     "text": [
      "16\n",
      "8\n",
      "27\n"
     ]
    }
   ],
   "source": [
    "#Quelques affichages\n",
    "print(vol_boite2(2,2,4))\n",
    "print(vol_boite2(2,2))\n",
    "print(vol_boite2(3))"
   ]
  },
  {
   "cell_type": "raw",
   "metadata": {},
   "source": [
    "5. fonction remplacement"
   ]
  },
  {
   "cell_type": "code",
   "execution_count": 26,
   "metadata": {},
   "outputs": [
    {
     "name": "stdout",
     "output_type": "stream",
     "text": [
      "sbs\n"
     ]
    }
   ],
   "source": [
    "def remplacement(c1, c2, ch):\n",
    "    return ch.replace(c1, c2)\n",
    "print(remplacement(\"a\", \"b\", \"sas\"))\n"
   ]
  },
  {
   "cell_type": "raw",
   "metadata": {},
   "source": [
    "6. Modifier les paramères de la question 5"
   ]
  },
  {
   "cell_type": "code",
   "execution_count": 70,
   "metadata": {},
   "outputs": [],
   "source": [
    "def remplacement(c1=\" \", c2=\"*\", ch=\"\"):\n",
    "    return ch.replace(c1, c2)"
   ]
  },
  {
   "cell_type": "code",
   "execution_count": 72,
   "metadata": {},
   "outputs": [
    {
     "name": "stdout",
     "output_type": "stream",
     "text": [
      "\n"
     ]
    }
   ],
   "source": [
    "print(remplacement())"
   ]
  },
  {
   "cell_type": "code",
   "execution_count": null,
   "metadata": {},
   "outputs": [],
   "source": []
  }
 ],
 "metadata": {
  "kernelspec": {
   "display_name": "Python 3",
   "language": "python",
   "name": "python3"
  },
  "language_info": {
   "codemirror_mode": {
    "name": "ipython",
    "version": 3
   },
   "file_extension": ".py",
   "mimetype": "text/x-python",
   "name": "python",
   "nbconvert_exporter": "python",
   "pygments_lexer": "ipython3",
   "version": "3.8.6"
  }
 },
 "nbformat": 4,
 "nbformat_minor": 4
}

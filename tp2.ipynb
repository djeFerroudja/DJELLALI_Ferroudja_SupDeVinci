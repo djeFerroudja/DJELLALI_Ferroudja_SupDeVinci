{
 "cells": [
  {
   "cell_type": "markdown",
   "metadata": {},
   "source": [
    "### Exercice 1 "
   ]
  },
  {
   "cell_type": "raw",
   "metadata": {},
   "source": [
    "1) Initialisez une variables c contenant la chaîne de caractères contenant des chiffres et\n",
    "des lettres, du type \"X44bf38j23jdjgfjh737nei47\"."
   ]
  },
  {
   "cell_type": "code",
   "execution_count": 1,
   "metadata": {},
   "outputs": [
    {
     "data": {
      "text/plain": [
       "'X44bf38j23jdjgfjh737nei47'"
      ]
     },
     "execution_count": 1,
     "metadata": {},
     "output_type": "execute_result"
    }
   ],
   "source": [
    "c=\"X44bf38j23jdjgfjh737nei47\"\n",
    "c"
   ]
  },
  {
   "cell_type": "raw",
   "metadata": {},
   "source": [
    "2) La variable c_num contient les caractères numériques de c, c_alpha contient les variables alphanumériques de c."
   ]
  },
  {
   "cell_type": "code",
   "execution_count": 2,
   "metadata": {},
   "outputs": [
    {
     "name": "stdout",
     "output_type": "stream",
     "text": [
      "c_num= 44382373747\n",
      "c_alpha= Xbfjjdjgfjhnei\n"
     ]
    }
   ],
   "source": [
    "c_num=\"\"\n",
    "c_alpha=\"\"\n",
    "for x in c:\n",
    "    if x.isdigit():\n",
    "        c_num=c_num+x\n",
    "    else:\n",
    "        c_alpha=c_alpha+x\n",
    "        \n",
    "print(\"c_num= \"+c_num+\"\\nc_alpha= \"+c_alpha)"
   ]
  },
  {
   "cell_type": "raw",
   "metadata": {},
   "source": [
    "3) Déterminer si la sous-chaîne \"j23\" apparaît la chaîne c:"
   ]
  },
  {
   "cell_type": "code",
   "execution_count": 3,
   "metadata": {},
   "outputs": [
    {
     "data": {
      "text/plain": [
       "True"
      ]
     },
     "execution_count": 3,
     "metadata": {},
     "output_type": "execute_result"
    }
   ],
   "source": [
    "'j23' in c"
   ]
  },
  {
   "cell_type": "raw",
   "metadata": {},
   "source": [
    "La commande précédence nous renvoie true, donc on peut remplacer j23 par une autre chaine dans c"
   ]
  },
  {
   "cell_type": "code",
   "execution_count": 4,
   "metadata": {},
   "outputs": [
    {
     "data": {
      "text/plain": [
       "'X44bf38j24jdjgfjh737nei47'"
      ]
     },
     "execution_count": 4,
     "metadata": {},
     "output_type": "execute_result"
    }
   ],
   "source": [
    "c=c.replace(\"j23\",\"j24\")\n",
    "c"
   ]
  },
  {
   "cell_type": "raw",
   "metadata": {},
   "source": [
    "4) f23 est-elle une sous chaine croissante?"
   ]
  },
  {
   "cell_type": "code",
   "execution_count": 5,
   "metadata": {},
   "outputs": [],
   "source": [
    "x=c.find('f')\n",
    "y=c.find('3')\n",
    "z=c.find('7')"
   ]
  },
  {
   "cell_type": "code",
   "execution_count": 6,
   "metadata": {},
   "outputs": [
    {
     "name": "stdout",
     "output_type": "stream",
     "text": [
      "f37 est une sous_chaine croissante\n"
     ]
    }
   ],
   "source": [
    "if x<y and y<z:\n",
    "    print(\"f37 est une sous_chaine croissante\")\n",
    "else:\n",
    "    print(\"f37 n'est pas une sous_chaine croissante\")    "
   ]
  },
  {
   "cell_type": "markdown",
   "metadata": {},
   "source": [
    "### Exercice 2"
   ]
  },
  {
   "cell_type": "raw",
   "metadata": {},
   "source": [
    "1) initialiser une chaine de caractère:"
   ]
  },
  {
   "cell_type": "code",
   "execution_count": 39,
   "metadata": {},
   "outputs": [],
   "source": [
    "texte = \"We introduce here the Python language\""
   ]
  },
  {
   "cell_type": "raw",
   "metadata": {},
   "source": [
    "a) script qui compte le nombre de caractères de la chaine:"
   ]
  },
  {
   "cell_type": "code",
   "execution_count": 41,
   "metadata": {},
   "outputs": [
    {
     "data": {
      "text/plain": [
       "37"
      ]
     },
     "execution_count": 41,
     "metadata": {},
     "output_type": "execute_result"
    }
   ],
   "source": [
    "compteur = 0\n",
    "for i in texte:\n",
    "    compteur = compteur+1\n",
    "compteur"
   ]
  },
  {
   "cell_type": "code",
   "execution_count": 9,
   "metadata": {},
   "outputs": [
    {
     "data": {
      "text/plain": [
       "37"
      ]
     },
     "execution_count": 9,
     "metadata": {},
     "output_type": "execute_result"
    }
   ],
   "source": [
    "#Pour vérifier si le résultat est bon, on peut appeler la fonction len\n",
    "len(texte)"
   ]
  },
  {
   "cell_type": "raw",
   "metadata": {},
   "source": [
    "b) Script qui compte le nombre de caractères non nuls de la chaine :"
   ]
  },
  {
   "cell_type": "code",
   "execution_count": 10,
   "metadata": {},
   "outputs": [
    {
     "data": {
      "text/plain": [
       "32"
      ]
     },
     "execution_count": 10,
     "metadata": {},
     "output_type": "execute_result"
    }
   ],
   "source": [
    "compteur = 0\n",
    "for i in texte:\n",
    "    if i != \" \":\n",
    "        compteur = compteur+1\n",
    "compteur"
   ]
  },
  {
   "cell_type": "raw",
   "metadata": {},
   "source": [
    "c) Script qui compte le nombre de mots de la chaine:"
   ]
  },
  {
   "cell_type": "code",
   "execution_count": 11,
   "metadata": {},
   "outputs": [
    {
     "data": {
      "text/plain": [
       "6"
      ]
     },
     "execution_count": 11,
     "metadata": {},
     "output_type": "execute_result"
    }
   ],
   "source": [
    "compteur = 1 # compteur commence par 1 pace qu'on suppose qu'on a au moins un mot par défaut\n",
    "for i in texte:\n",
    "    if i ==\" \":\n",
    "        compteur = compteur+1\n",
    "compteur"
   ]
  },
  {
   "cell_type": "code",
   "execution_count": 12,
   "metadata": {},
   "outputs": [
    {
     "data": {
      "text/plain": [
       "6"
      ]
     },
     "execution_count": 12,
     "metadata": {},
     "output_type": "execute_result"
    }
   ],
   "source": [
    "#On peut vérifier avec :\n",
    "len(texte.split())"
   ]
  },
  {
   "cell_type": "raw",
   "metadata": {},
   "source": [
    "2) initialiser la variable texte2"
   ]
  },
  {
   "cell_type": "code",
   "execution_count": 58,
   "metadata": {},
   "outputs": [],
   "source": [
    "texte2=\"We introduce here the Python language. To learn more about the language, \\\n",
    "consider going through the excellent tutorial https://docs.python.org/tutorial. Dedicated books are also available, such as http://www.diveintopython.net/.\""
   ]
  },
  {
   "cell_type": "code",
   "execution_count": 52,
   "metadata": {},
   "outputs": [
    {
     "data": {
      "text/plain": [
       "27"
      ]
     },
     "execution_count": 52,
     "metadata": {},
     "output_type": "execute_result"
    }
   ],
   "source": [
    "compteur = 1 # compteur commence par 1 pace qu'on suppose qu'on a au moins un mot par défaut\n",
    "for i in texte2:\n",
    "    if i == \" \":\n",
    "        compteur = compteur+1\n",
    "compteur"
   ]
  },
  {
   "cell_type": "code",
   "execution_count": 53,
   "metadata": {},
   "outputs": [
    {
     "data": {
      "text/plain": [
       "27"
      ]
     },
     "execution_count": 53,
     "metadata": {},
     "output_type": "execute_result"
    }
   ],
   "source": [
    "a=len(texte2.split())\n",
    "a"
   ]
  },
  {
   "cell_type": "raw",
   "metadata": {},
   "source": [
    "Dérrière chque symboles de ponctuation, il y'aun espace donc le script precedent est toujours valable. "
   ]
  },
  {
   "cell_type": "markdown",
   "metadata": {},
   "source": [
    "### Exercice 3"
   ]
  },
  {
   "cell_type": "raw",
   "metadata": {},
   "source": [
    "1) Demandez 3 mois à l'utilisateur, créer une liste, trier la liste par ordre alphabétique"
   ]
  },
  {
   "cell_type": "code",
   "execution_count": null,
   "metadata": {},
   "outputs": [],
   "source": [
    "liste=[]\n",
    "for i in range(3):\n",
    "    x=input(\"Entrez une valeur : \")\n",
    "    liste.append(x)\n",
    "liste.sort()\n",
    "print(\"votre liste est \",liste)\n"
   ]
  },
  {
   "cell_type": "markdown",
   "metadata": {},
   "source": [
    "2) L'utilisateur peut entrer autant de mots qu'il le souhaite, fin de saisie avec FIN"
   ]
  },
  {
   "cell_type": "code",
   "execution_count": null,
   "metadata": {},
   "outputs": [],
   "source": [
    "liste=[]\n",
    "x=\"\"\n",
    "while x != \"FIN\":\n",
    "    x=input(\"Entrez une valeur : \")\n",
    "    liste.append(x)\n",
    "liste.sort()\n",
    "print(\"votre liste est \",liste)"
   ]
  },
  {
   "cell_type": "markdown",
   "metadata": {},
   "source": [
    "### Exercice 4"
   ]
  },
  {
   "cell_type": "raw",
   "metadata": {},
   "source": [
    "1) Générer une liste cartes "
   ]
  },
  {
   "cell_type": "code",
   "execution_count": 3,
   "metadata": {},
   "outputs": [],
   "source": [
    "Couleurs = [\"Pique\",\"Trefle\",\"Carreau\",\"Coeur\"]\n",
    "\n",
    "valeurs = [2, 3, 4, 5, 6, 7, 8, 9, 10,\"valet\",\"dame\",\"roi\",\"as\"]"
   ]
  },
  {
   "cell_type": "code",
   "execution_count": 19,
   "metadata": {},
   "outputs": [
    {
     "data": {
      "text/plain": [
       "['Pique 2',\n",
       " 'Pique 3',\n",
       " 'Pique 4',\n",
       " 'Pique 5',\n",
       " 'Pique 6',\n",
       " 'Pique 7',\n",
       " 'Pique 8',\n",
       " 'Pique 9',\n",
       " 'Pique 10',\n",
       " 'Pique valet',\n",
       " 'Pique dame',\n",
       " 'Pique roi',\n",
       " 'Pique as',\n",
       " 'Trefle 2',\n",
       " 'Trefle 3',\n",
       " 'Trefle 4',\n",
       " 'Trefle 5',\n",
       " 'Trefle 6',\n",
       " 'Trefle 7',\n",
       " 'Trefle 8',\n",
       " 'Trefle 9',\n",
       " 'Trefle 10',\n",
       " 'Trefle valet',\n",
       " 'Trefle dame',\n",
       " 'Trefle roi',\n",
       " 'Trefle as',\n",
       " 'Carreau 2',\n",
       " 'Carreau 3',\n",
       " 'Carreau 4',\n",
       " 'Carreau 5',\n",
       " 'Carreau 6',\n",
       " 'Carreau 7',\n",
       " 'Carreau 8',\n",
       " 'Carreau 9',\n",
       " 'Carreau 10',\n",
       " 'Carreau valet',\n",
       " 'Carreau dame',\n",
       " 'Carreau roi',\n",
       " 'Carreau as',\n",
       " 'Coeur 2',\n",
       " 'Coeur 3',\n",
       " 'Coeur 4',\n",
       " 'Coeur 5',\n",
       " 'Coeur 6',\n",
       " 'Coeur 7',\n",
       " 'Coeur 8',\n",
       " 'Coeur 9',\n",
       " 'Coeur 10',\n",
       " 'Coeur valet',\n",
       " 'Coeur dame',\n",
       " 'Coeur roi',\n",
       " 'Coeur as']"
      ]
     },
     "execution_count": 19,
     "metadata": {},
     "output_type": "execute_result"
    }
   ],
   "source": [
    "cartes= []\n",
    "for i in Couleurs:\n",
    "    for j in valeurs:\n",
    "        cartes.append(i+\" \"+str(j))\n",
    "cartes"
   ]
  },
  {
   "cell_type": "raw",
   "metadata": {},
   "source": [
    "2) importer la fonction shuffle et mélanger les cartes:"
   ]
  },
  {
   "cell_type": "code",
   "execution_count": 29,
   "metadata": {},
   "outputs": [],
   "source": [
    "from random import shuffle\n",
    "shuffle(cartes)\n"
   ]
  },
  {
   "cell_type": "raw",
   "metadata": {},
   "source": [
    "3) Distrubuer les cartes pour chaque joueur: "
   ]
  },
  {
   "cell_type": "code",
   "execution_count": 33,
   "metadata": {},
   "outputs": [],
   "source": [
    "Joueur1=[]\n",
    "Joueur2=[]\n",
    "Joueur3=[]\n",
    "Joueur4=[]\n",
    "for i in range(len(cartes)):\n",
    "    if i% 4 ==0:\n",
    "        Joueur1.append(cartes[i])\n",
    "    elif i% 4 ==1:\n",
    "        Joueur2.append(cartes[i])\n",
    "    elif i% 4 ==2:\n",
    "        Joueur3.append(cartes[i])\n",
    "    elif i% 4 ==3:\n",
    "        Joueur4.append(cartes[i])\n",
    "    "
   ]
  },
  {
   "cell_type": "code",
   "execution_count": 38,
   "metadata": {},
   "outputs": [
    {
     "data": {
      "text/plain": [
       "['Trefle 6',\n",
       " 'Carreau 4',\n",
       " 'Pique 4',\n",
       " 'Carreau valet',\n",
       " 'Coeur 5',\n",
       " 'Coeur 4',\n",
       " 'Coeur 3',\n",
       " 'Carreau 9',\n",
       " 'Trefle 4',\n",
       " 'Carreau 6',\n",
       " 'Carreau roi',\n",
       " 'Trefle 3',\n",
       " 'Pique 8']"
      ]
     },
     "execution_count": 38,
     "metadata": {},
     "output_type": "execute_result"
    }
   ],
   "source": [
    "Joueur1"
   ]
  },
  {
   "cell_type": "code",
   "execution_count": null,
   "metadata": {},
   "outputs": [],
   "source": []
  }
 ],
 "metadata": {
  "kernelspec": {
   "display_name": "Python 3",
   "language": "python",
   "name": "python3"
  },
  "language_info": {
   "codemirror_mode": {
    "name": "ipython",
    "version": 3
   },
   "file_extension": ".py",
   "mimetype": "text/x-python",
   "name": "python",
   "nbconvert_exporter": "python",
   "pygments_lexer": "ipython3",
   "version": "3.8.6"
  }
 },
 "nbformat": 4,
 "nbformat_minor": 4
}
